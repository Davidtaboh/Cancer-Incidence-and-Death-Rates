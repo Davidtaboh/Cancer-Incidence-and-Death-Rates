{
 "cells": [
  {
   "cell_type": "code",
   "execution_count": null,
   "metadata": {},
   "outputs": [],
   "source": [
    "# Dependencies\n",
    "import json\n",
    "import requests\n",
    "import pandas as pd\n",
    "from config import api_key\n",
    "from config import census_api_key"
   ]
  },
  {
   "cell_type": "code",
   "execution_count": null,
   "metadata": {},
   "outputs": [],
   "source": [
    "# &for=state:* – retrieves the result for all states\n",
    "# The following is another tried method of calling API info from a YT that Ben sent me.\n",
    "#c = Census(census_api_key, year = 2016)\n",
    "#census_data = c.acs5.get()"
   ]
  },
  {
   "cell_type": "code",
   "execution_count": null,
   "metadata": {},
   "outputs": [],
   "source": [
    "# url = f\"https://api.census.gov/data/2016/cbp?get=STATE,INDGROUP,NAICS2012,ESTAB&for=state:*&key={api_key}\"\n",
    "url = f\"https://api.census.gov/data/2016/cbp?get=NAICS2012_TTL,GEO_TTL,EMP,LFO_TTL,GEO_ID,ESTAB&for=state:*&key={api_key}\"\n",
    "\n",
    "response = requests.get(url)"
   ]
  },
  {
   "cell_type": "code",
   "execution_count": null,
   "metadata": {},
   "outputs": [],
   "source": [
    "response.json()[1]\n",
    "alabama_facts = response.json()[1]\n",
    "alabama_df = pd.DataFrame(alabama_facts)\n",
    "alabama_df"
   ]
  }
 ],
 "metadata": {
  "kernelspec": {
   "display_name": "Python 3",
   "language": "python",
   "name": "python3"
  },
  "language_info": {
   "codemirror_mode": {
    "name": "ipython",
    "version": 3
   },
   "file_extension": ".py",
   "mimetype": "text/x-python",
   "name": "python",
   "nbconvert_exporter": "python",
   "pygments_lexer": "ipython3",
   "version": "3.7.4"
  }
 },
 "nbformat": 4,
 "nbformat_minor": 2
}
