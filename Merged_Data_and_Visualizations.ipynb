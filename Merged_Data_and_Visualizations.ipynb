{
 "cells": [
  {
   "cell_type": "code",
   "execution_count": 1,
   "metadata": {},
   "outputs": [],
   "source": [
    "import pandas as pd\n",
    "import matplotlib.pyplot as plt\n",
    "import numpy as np\n",
    "import scipy.stats as st"
   ]
  },
  {
   "cell_type": "code",
   "execution_count": 2,
   "metadata": {},
   "outputs": [],
   "source": [
    "state_job_fig = \"CSV Files/Total Jobs per State\"\n",
    "total_ind_state = \"CSV Files/Total Worker per Category\"\n",
    "state_ind_breakdown = \"CSV Files/Manufacturing Jobs by Industry\"\n",
    "state_lab_force = \"CSV Files/BLS Civilian Labor Force By State.csv\"\n",
    "combined_cancer = \"Cancer Incidence & Death Rates/Resource/Added_final_combined_cancer_data.csv\""
   ]
  },
  {
   "cell_type": "code",
   "execution_count": 3,
   "metadata": {},
   "outputs": [],
   "source": [
    "state_job_df = pd.read_csv(state_job_fig)\n",
    "total_ind_df = pd.read_csv(total_ind_state)\n",
    "st_in_brk_df = pd.read_csv(state_ind_breakdown)\n",
    "state_lab_df = pd.read_csv(state_lab_force)\n",
    "cancer_rate_df = pd.read_csv(combined_cancer)"
   ]
  },
  {
   "cell_type": "code",
   "execution_count": 4,
   "metadata": {},
   "outputs": [
    {
     "data": {
      "text/html": [
       "<div>\n",
       "<style scoped>\n",
       "    .dataframe tbody tr th:only-of-type {\n",
       "        vertical-align: middle;\n",
       "    }\n",
       "\n",
       "    .dataframe tbody tr th {\n",
       "        vertical-align: top;\n",
       "    }\n",
       "\n",
       "    .dataframe thead th {\n",
       "        text-align: right;\n",
       "    }\n",
       "</style>\n",
       "<table border=\"1\" class=\"dataframe\">\n",
       "  <thead>\n",
       "    <tr style=\"text-align: right;\">\n",
       "      <th></th>\n",
       "      <th>State</th>\n",
       "      <th>Workers per State</th>\n",
       "      <th>Civilia Labor Force</th>\n",
       "      <th>Unnamed: 2</th>\n",
       "      <th>Unnamed: 3</th>\n",
       "      <th>Unnamed: 4</th>\n",
       "      <th>Unnamed: 5</th>\n",
       "      <th>Unnamed: 6</th>\n",
       "      <th>Unnamed: 7</th>\n",
       "      <th>Unnamed: 8</th>\n",
       "      <th>Unnamed: 9</th>\n",
       "    </tr>\n",
       "  </thead>\n",
       "  <tbody>\n",
       "    <tr>\n",
       "      <td>0</td>\n",
       "      <td>Alabama</td>\n",
       "      <td>128315</td>\n",
       "      <td>2,181,837</td>\n",
       "      <td>NaN</td>\n",
       "      <td>NaN</td>\n",
       "      <td>NaN</td>\n",
       "      <td>NaN</td>\n",
       "      <td>NaN</td>\n",
       "      <td>NaN</td>\n",
       "      <td>NaN</td>\n",
       "      <td>NaN</td>\n",
       "    </tr>\n",
       "    <tr>\n",
       "      <td>1</td>\n",
       "      <td>Alaska</td>\n",
       "      <td>3239</td>\n",
       "      <td>353,728</td>\n",
       "      <td>NaN</td>\n",
       "      <td>NaN</td>\n",
       "      <td>NaN</td>\n",
       "      <td>NaN</td>\n",
       "      <td>NaN</td>\n",
       "      <td>NaN</td>\n",
       "      <td>NaN</td>\n",
       "      <td>NaN</td>\n",
       "    </tr>\n",
       "    <tr>\n",
       "      <td>2</td>\n",
       "      <td>Arizona</td>\n",
       "      <td>56602</td>\n",
       "      <td>3,252,711</td>\n",
       "      <td>NaN</td>\n",
       "      <td>NaN</td>\n",
       "      <td>NaN</td>\n",
       "      <td>NaN</td>\n",
       "      <td>NaN</td>\n",
       "      <td>NaN</td>\n",
       "      <td>NaN</td>\n",
       "      <td>NaN</td>\n",
       "    </tr>\n",
       "    <tr>\n",
       "      <td>3</td>\n",
       "      <td>Arkansas</td>\n",
       "      <td>76421</td>\n",
       "      <td>1,327,435</td>\n",
       "      <td>NaN</td>\n",
       "      <td>NaN</td>\n",
       "      <td>NaN</td>\n",
       "      <td>NaN</td>\n",
       "      <td>NaN</td>\n",
       "      <td>NaN</td>\n",
       "      <td>NaN</td>\n",
       "      <td>NaN</td>\n",
       "    </tr>\n",
       "    <tr>\n",
       "      <td>4</td>\n",
       "      <td>California</td>\n",
       "      <td>517711</td>\n",
       "      <td>19,192,788</td>\n",
       "      <td>NaN</td>\n",
       "      <td>NaN</td>\n",
       "      <td>NaN</td>\n",
       "      <td>NaN</td>\n",
       "      <td>NaN</td>\n",
       "      <td>NaN</td>\n",
       "      <td>NaN</td>\n",
       "      <td>NaN</td>\n",
       "    </tr>\n",
       "  </tbody>\n",
       "</table>\n",
       "</div>"
      ],
      "text/plain": [
       "        State  Workers per State Civilia Labor Force  Unnamed: 2  Unnamed: 3  \\\n",
       "0     Alabama             128315           2,181,837         NaN         NaN   \n",
       "1      Alaska               3239             353,728         NaN         NaN   \n",
       "2     Arizona              56602           3,252,711         NaN         NaN   \n",
       "3    Arkansas              76421           1,327,435         NaN         NaN   \n",
       "4  California             517711          19,192,788         NaN         NaN   \n",
       "\n",
       "   Unnamed: 4  Unnamed: 5  Unnamed: 6  Unnamed: 7  Unnamed: 8  Unnamed: 9  \n",
       "0         NaN         NaN         NaN         NaN         NaN         NaN  \n",
       "1         NaN         NaN         NaN         NaN         NaN         NaN  \n",
       "2         NaN         NaN         NaN         NaN         NaN         NaN  \n",
       "3         NaN         NaN         NaN         NaN         NaN         NaN  \n",
       "4         NaN         NaN         NaN         NaN         NaN         NaN  "
      ]
     },
     "execution_count": 4,
     "metadata": {},
     "output_type": "execute_result"
    }
   ],
   "source": [
    "job_lab_df = pd.merge(state_job_df,state_lab_df, on=\"State\" )\n",
    "job_lab_df.head()"
   ]
  },
  {
   "cell_type": "code",
   "execution_count": 5,
   "metadata": {},
   "outputs": [],
   "source": [
    "job_lab_df= job_lab_df.rename(columns={\"Civilia Labor Force\":\"Labor Force\"})"
   ]
  },
  {
   "cell_type": "code",
   "execution_count": 6,
   "metadata": {},
   "outputs": [],
   "source": [
    "job_lab_df = job_lab_df.drop(columns=[\"Unnamed: 2\",\"Unnamed: 3\", \"Unnamed: 4\",\"Unnamed: 5\",\"Unnamed: 6\",\"Unnamed: 7\",\"Unnamed: 8\",\"Unnamed: 9\"])"
   ]
  },
  {
   "cell_type": "code",
   "execution_count": 7,
   "metadata": {},
   "outputs": [
    {
     "data": {
      "text/plain": [
       "State                object\n",
       "Workers per State     int64\n",
       "Labor Force          object\n",
       "dtype: object"
      ]
     },
     "execution_count": 7,
     "metadata": {},
     "output_type": "execute_result"
    }
   ],
   "source": [
    "job_lab_df.dtypes"
   ]
  },
  {
   "cell_type": "code",
   "execution_count": 9,
   "metadata": {},
   "outputs": [
    {
     "ename": "AttributeError",
     "evalue": "'Series' object has no attribute 'convert_objects'",
     "output_type": "error",
     "traceback": [
      "\u001b[0;31m---------------------------------------------------------------------------\u001b[0m",
      "\u001b[0;31mAttributeError\u001b[0m                            Traceback (most recent call last)",
      "\u001b[0;32m<ipython-input-9-a8b262142633>\u001b[0m in \u001b[0;36m<module>\u001b[0;34m\u001b[0m\n\u001b[1;32m      1\u001b[0m \u001b[0;31m#job_lab_df[\"Labor Force\"].astype(str).astype(int)\u001b[0m\u001b[0;34m\u001b[0m\u001b[0;34m\u001b[0m\u001b[0;34m\u001b[0m\u001b[0m\n\u001b[1;32m      2\u001b[0m \u001b[0;34m\u001b[0m\u001b[0m\n\u001b[0;32m----> 3\u001b[0;31m \u001b[0mjob_lab_df\u001b[0m\u001b[0;34m[\u001b[0m\u001b[0;34m\"Labor Force\"\u001b[0m\u001b[0;34m]\u001b[0m \u001b[0;34m=\u001b[0m \u001b[0mjob_lab_df\u001b[0m\u001b[0;34m[\u001b[0m\u001b[0;34m\"Labor Force\"\u001b[0m\u001b[0;34m]\u001b[0m\u001b[0;34m.\u001b[0m\u001b[0mconvert_objects\u001b[0m\u001b[0;34m(\u001b[0m\u001b[0mconvert_numeric\u001b[0m\u001b[0;34m=\u001b[0m\u001b[0;32mTrue\u001b[0m\u001b[0;34m)\u001b[0m\u001b[0;34m\u001b[0m\u001b[0;34m\u001b[0m\u001b[0m\n\u001b[0m",
      "\u001b[0;32m~/opt/anaconda3/lib/python3.7/site-packages/pandas/core/generic.py\u001b[0m in \u001b[0;36m__getattr__\u001b[0;34m(self, name)\u001b[0m\n\u001b[1;32m   5177\u001b[0m             \u001b[0;32mif\u001b[0m \u001b[0mself\u001b[0m\u001b[0;34m.\u001b[0m\u001b[0m_info_axis\u001b[0m\u001b[0;34m.\u001b[0m\u001b[0m_can_hold_identifiers_and_holds_name\u001b[0m\u001b[0;34m(\u001b[0m\u001b[0mname\u001b[0m\u001b[0;34m)\u001b[0m\u001b[0;34m:\u001b[0m\u001b[0;34m\u001b[0m\u001b[0;34m\u001b[0m\u001b[0m\n\u001b[1;32m   5178\u001b[0m                 \u001b[0;32mreturn\u001b[0m \u001b[0mself\u001b[0m\u001b[0;34m[\u001b[0m\u001b[0mname\u001b[0m\u001b[0;34m]\u001b[0m\u001b[0;34m\u001b[0m\u001b[0;34m\u001b[0m\u001b[0m\n\u001b[0;32m-> 5179\u001b[0;31m             \u001b[0;32mreturn\u001b[0m \u001b[0mobject\u001b[0m\u001b[0;34m.\u001b[0m\u001b[0m__getattribute__\u001b[0m\u001b[0;34m(\u001b[0m\u001b[0mself\u001b[0m\u001b[0;34m,\u001b[0m \u001b[0mname\u001b[0m\u001b[0;34m)\u001b[0m\u001b[0;34m\u001b[0m\u001b[0;34m\u001b[0m\u001b[0m\n\u001b[0m\u001b[1;32m   5180\u001b[0m \u001b[0;34m\u001b[0m\u001b[0m\n\u001b[1;32m   5181\u001b[0m     \u001b[0;32mdef\u001b[0m \u001b[0m__setattr__\u001b[0m\u001b[0;34m(\u001b[0m\u001b[0mself\u001b[0m\u001b[0;34m,\u001b[0m \u001b[0mname\u001b[0m\u001b[0;34m,\u001b[0m \u001b[0mvalue\u001b[0m\u001b[0;34m)\u001b[0m\u001b[0;34m:\u001b[0m\u001b[0;34m\u001b[0m\u001b[0;34m\u001b[0m\u001b[0m\n",
      "\u001b[0;31mAttributeError\u001b[0m: 'Series' object has no attribute 'convert_objects'"
     ]
    }
   ],
   "source": [
    "#job_lab_df[\"Labor Force\"].astype(str).astype(int)\n",
    "\n",
    "#job_lab_df[\"Labor Force\"] = job_lab_df[\"Labor Force\"].convert_objects(convert_numeric=True)\n"
   ]
  },
  {
   "cell_type": "code",
   "execution_count": null,
   "metadata": {},
   "outputs": [],
   "source": [
    "state_job_ind = state_job_df.set_index(\"State\")\n",
    "state_job_ind.head()"
   ]
  },
  {
   "cell_type": "code",
   "execution_count": null,
   "metadata": {},
   "outputs": [],
   "source": [
    "plt.figure()\n",
    "state_job_ind.plot(kind = \"barh\",figsize=(3,10))"
   ]
  },
  {
   "cell_type": "code",
   "execution_count": null,
   "metadata": {},
   "outputs": [],
   "source": [
    "total_job_total_cancer = pd.merge(state_job_df,cancer_rate_df, on='State')"
   ]
  },
  {
   "cell_type": "code",
   "execution_count": null,
   "metadata": {},
   "outputs": [],
   "source": [
    "plt.figure()\n",
    "plt.scatter(total_job_total_cancer[\"Workers per State\"],total_job_total_cancer[\"Incidence Rate\"])\n",
    "\n",
    "plt.title(\"Manufacturing Workers Per State vs. Cancer Incidence Rates\")\n",
    "plt.ylabel(\"Incidence Rate\")\n",
    "plt.xlabel(\"Total Manufacturing Employees\")"
   ]
  },
  {
   "cell_type": "code",
   "execution_count": null,
   "metadata": {},
   "outputs": [],
   "source": [
    "plt.figure()\n",
    "plt.scatter(total_job_total_cancer[\"Workers per State\"],total_job_total_cancer[\"Cancer Death_per_hundred_cancer_patient\"])\n",
    "\n",
    "plt.title(\"Manufacturing Workers Per State vs. Cancer Death Rates\")\n",
    "plt.ylabel(\"Death Rate\")\n",
    "plt.xlabel(\"Total Manufacturing Employees\")"
   ]
  },
  {
   "cell_type": "code",
   "execution_count": null,
   "metadata": {},
   "outputs": [],
   "source": [
    "#Determining the pearson correlation between workes per state and cancer deaths per hunder cancer patients\n",
    "x_axis= total_job_total_cancer[\"Workers per State\"]\n",
    "y_axis= total_job_total_cancer[\"Cancer Death_per_hundred_cancer_patient\"]\n",
    "correlation = st.pearsonr(x_axis,y_axis)\n",
    "print(f\"The pearson correlation between Workers per State and Cancer Death Rate is {round(correlation[0],2)}\")\n"
   ]
  },
  {
   "cell_type": "code",
   "execution_count": null,
   "metadata": {},
   "outputs": [],
   "source": [
    "#Determining the pearson correlation between workes per state and cancer incidence rates\n",
    "x_axis= total_job_total_cancer[\"Workers per State\"]\n",
    "y_axis= total_job_total_cancer[\"Incidence Rate\"]\n",
    "correlation = st.pearsonr(x_axis,y_axis)\n",
    "print(f\"The pearson correlation between Workers per State and Cancer Indicence Rate is {round(correlation[0],2)}\")\n",
    "\n"
   ]
  },
  {
   "cell_type": "code",
   "execution_count": null,
   "metadata": {},
   "outputs": [],
   "source": [
    "#industries_states = st_in_brk_df.groupby([\"State\"])\n",
    "st_in_brk_df.head()"
   ]
  },
  {
   "cell_type": "code",
   "execution_count": null,
   "metadata": {},
   "outputs": [],
   "source": [
    "#Creating a dataframe that lists job figures of petrolium and coal manufacturing jobs per state\n",
    "\n",
    "petro_coal_manu = st_in_brk_df.loc[st_in_brk_df[\"Job Category\"]==\"Petroleum and coal products manufacturing\"]\n",
    "\n"
   ]
  },
  {
   "cell_type": "code",
   "execution_count": null,
   "metadata": {},
   "outputs": [],
   "source": [
    "pc_cancer = pd.merge(petro_coal_manu,cancer_rate_df, on=\"State\" )\n"
   ]
  },
  {
   "cell_type": "code",
   "execution_count": null,
   "metadata": {},
   "outputs": [],
   "source": [
    "#figure of coal and petroleum workers compared in cancer rate deaths\n",
    "plt.figure()\n",
    "plt.scatter(pc_cancer[\"People Employed\"],pc_cancer[\"Cancer Death_per_hundred_cancer_patient\"])\n",
    "\n",
    "plt.title(\"Petroleum & Coal Workers Per State vs. Bottom Cancer Death Rates States\")\n",
    "plt.ylabel(\"Death Rate\")\n",
    "plt.xlabel(\"Total Petroleum & Coal Employees\")"
   ]
  },
  {
   "cell_type": "code",
   "execution_count": null,
   "metadata": {},
   "outputs": [],
   "source": [
    "x_axis= pc_cancer[\"People Employed\"]\n",
    "y_axis= pc_cancer[\"Cancer Death_per_hundred_cancer_patient\"]\n",
    "correlation = st.pearsonr(x_axis,y_axis)\n",
    "print(f\"The pearson correlation between Workers per State and Cancer Death Rate is {round(correlation[0],2)}\")"
   ]
  },
  {
   "cell_type": "code",
   "execution_count": null,
   "metadata": {},
   "outputs": [],
   "source": [
    "#Creating a dataframe that lists job figures of chemical manufacturing jobs per state\n",
    "\n",
    "chemical_manu = st_in_brk_df.loc[st_in_brk_df[\"Job Category\"]==\"Chemical manufacturing\"]\n"
   ]
  },
  {
   "cell_type": "code",
   "execution_count": null,
   "metadata": {},
   "outputs": [],
   "source": [
    "#Merging chemical manufacturing job dataframe with the cancer information dataframe.\n",
    "chem_cancer = pd.merge(chemical_manu,cancer_rate_df, on=\"State\" )\n"
   ]
  },
  {
   "cell_type": "code",
   "execution_count": null,
   "metadata": {},
   "outputs": [],
   "source": [
    "#figure of coal and petroleum workers compared in cancer rate deaths\n",
    "plt.figure()\n",
    "plt.scatter(chem_cancer[\"People Employed\"],chem_cancer[\"Cancer Death_per_hundred_cancer_patient\"])\n",
    "\n",
    "plt.title(\"Chemical Manufacturing Workers Per State vs. Bottom Cancer Death Rates States\")\n",
    "plt.ylabel(\"Death Rate\")\n",
    "plt.xlabel(\"Total Petroleum & Coal Employees\")"
   ]
  },
  {
   "cell_type": "code",
   "execution_count": null,
   "metadata": {},
   "outputs": [],
   "source": [
    "#Figuring out the pearson correlation\n",
    "x_axis= chem_cancer[\"People Employed\"]\n",
    "y_axis= chem_cancer[\"Cancer Death_per_hundred_cancer_patient\"]\n",
    "correlation = st.pearsonr(x_axis,y_axis)\n",
    "print(f\"The pearson correlation between Workers per State and Cancer Death Rate is {round(correlation[0],2)}\")"
   ]
  },
  {
   "cell_type": "code",
   "execution_count": null,
   "metadata": {},
   "outputs": [],
   "source": [
    "#Do comparisons with top 10 bottom 20 and industries. Done. That's below.\n",
    "#See about comparing specific industries."
   ]
  },
  {
   "cell_type": "code",
   "execution_count": null,
   "metadata": {},
   "outputs": [],
   "source": [
    "#Creating a dataframe that has the lowest deaths per 100 cancer patients.\n",
    "dx = cancer_rate_df.sort_values(\"Cancer Death_per_hundred_cancer_patient\", ascending = True)\n",
    "low_can_death = dx.head(10)\n",
    "low_can_death"
   ]
  },
  {
   "cell_type": "code",
   "execution_count": null,
   "metadata": {},
   "outputs": [],
   "source": [
    "bot_can_death = pd.merge(state_job_df,low_can_death, on ='State')\n",
    "bot_can_death = bot_can_death.sort_values(\"Cancer Death_per_hundred_cancer_patient\", ascending=True)\n",
    "bot_can_death"
   ]
  },
  {
   "cell_type": "code",
   "execution_count": null,
   "metadata": {},
   "outputs": [],
   "source": [
    "#Making a plot for the number of manufacturing workers verse cancer deaths.\n",
    "plt.figure()\n",
    "plt.scatter(bot_can_death[\"Workers per State\"],bot_can_death[\"Cancer Death_per_hundred_cancer_patient\"])\n",
    "\n",
    "plt.title(\"Manufacturing Workers Per State vs. Bottom Cancer Death Rates States\")\n",
    "plt.ylabel(\"Death Rate\")\n",
    "plt.xlabel(\"Total Manufacturing Employees\")"
   ]
  },
  {
   "cell_type": "code",
   "execution_count": null,
   "metadata": {},
   "outputs": [],
   "source": [
    "#Calculating the pearson correlation between workers pers state and cancer death rates in the bottom 10 states.\n",
    "\n",
    "x_axis= bot_can_death[\"Workers per State\"]\n",
    "y_axis= bot_can_death[\"Cancer Death_per_hundred_cancer_patient\"]\n",
    "correlation = st.pearsonr(x_axis,y_axis)\n",
    "print(f\"The pearson correlation between Workers per State and Cancer Death Rate is {round(correlation[0],2)}\")"
   ]
  },
  {
   "cell_type": "code",
   "execution_count": null,
   "metadata": {},
   "outputs": [],
   "source": [
    "dx2 = dx.tail(20)"
   ]
  },
  {
   "cell_type": "code",
   "execution_count": null,
   "metadata": {},
   "outputs": [],
   "source": [
    "#Creating a dataframe that has the 20 states with the highest death per 100 patients\n",
    "high_can_death = dx2.sort_values(\"Cancer Death_per_hundred_cancer_patient\", ascending = False)\n",
    "high_can_death"
   ]
  },
  {
   "cell_type": "code",
   "execution_count": null,
   "metadata": {},
   "outputs": [],
   "source": [
    "state_job_df.head()"
   ]
  },
  {
   "cell_type": "code",
   "execution_count": null,
   "metadata": {},
   "outputs": [],
   "source": [
    "#combinding the highest cancer death states with the total industry figures\n",
    "top_can_ind = pd.merge(state_job_df, high_can_death, on= \"State\")\n",
    "top_can_ind = top_can_ind.sort_values(\"Cancer Death_per_hundred_cancer_patient\", ascending = False)\n",
    "top_can_ind"
   ]
  },
  {
   "cell_type": "code",
   "execution_count": null,
   "metadata": {},
   "outputs": [],
   "source": [
    "plt.figure()\n",
    "plt.scatter(top_can_ind[\"Workers per State\"],top_can_ind[\"Cancer Death_per_hundred_cancer_patient\"])\n",
    "\n",
    "plt.title(\"Manufacturing Workers Per State vs. Top Cancer Death Rates States\")\n",
    "plt.ylabel(\"Death Rate\")\n",
    "plt.xlabel(\"Total Manufacturing Employees\")"
   ]
  },
  {
   "cell_type": "code",
   "execution_count": null,
   "metadata": {},
   "outputs": [],
   "source": [
    "#Calculating the pearson correlation between workers pers state and cancer death rates in the top 20 states.\n",
    "\n",
    "x_axis= top_can_ind[\"Workers per State\"]\n",
    "y_axis= top_can_ind[\"Cancer Death_per_hundred_cancer_patient\"]\n",
    "correlation = st.pearsonr(x_axis,y_axis)\n",
    "print(f\"The pearson correlation between Workers per State and Cancer Death Rate is {round(correlation[0],2)}\")"
   ]
  },
  {
   "cell_type": "code",
   "execution_count": null,
   "metadata": {},
   "outputs": [],
   "source": []
  }
 ],
 "metadata": {
  "kernelspec": {
   "display_name": "Python 3",
   "language": "python",
   "name": "python3"
  },
  "language_info": {
   "codemirror_mode": {
    "name": "ipython",
    "version": 3
   },
   "file_extension": ".py",
   "mimetype": "text/x-python",
   "name": "python",
   "nbconvert_exporter": "python",
   "pygments_lexer": "ipython3",
   "version": "3.7.4"
  }
 },
 "nbformat": 4,
 "nbformat_minor": 2
}
