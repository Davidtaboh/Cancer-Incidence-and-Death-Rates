{
 "cells": [
  {
   "cell_type": "code",
   "execution_count": 1,
   "metadata": {},
   "outputs": [],
   "source": [
    "# Dependencies and Setup\n",
    "import matplotlib.pyplot as plt\n",
    "import pandas as pd\n",
    "import scipy.stats as sts\n",
    "import numpy as np\n",
    "from scipy.stats import linregress\n",
    "\n",
    "# Study data files\n",
    "Lifestyle_data = \"../Row-2-Group-Project/cdc_npao.csv\"\n",
    "\n",
    "\n",
    "# Read the mouse data and the study results\n",
    "raw_data = pd.read_csv(Lifestyle_data)\n",
    "\n",
    "raw_data_df = pd.DataFrame(raw_data)\n"
   ]
  },
  {
   "cell_type": "code",
   "execution_count": null,
   "metadata": {},
   "outputs": [],
   "source": [
    "years_selected = raw_data[\"YearStart\"].isin(['2015'])\n",
    "state_chosen= raw_data[\"LocationDesc\"].isin(['Alabama'])\n",
    "filter_data = raw_data[years_selected & state_chosen]\n",
    "grouped_data = filter_data.groupby([\"Class\",])\n",
    "#Value = grouped_data[\"Data_Value\"].mean()\n",
    "#grouped_data\n",
    "Percent_value_avg = grouped_data[\"Data_Value\"].mean()\n",
    "Percent_value_avg\n",
    "\n",
    "Lifestyle_data_df = pd.DataFrame({\"Pecentage Value Average\":Percent_value_avg})\n",
    "#Lifestyle_data_df = pd.DataFrame(grouped_data)\n",
    "Lifestyle_data_df"
   ]
  },
  {
   "cell_type": "code",
   "execution_count": null,
   "metadata": {},
   "outputs": [],
   "source": [
    "#plotting the graph\n",
    "#Years = ['2012','2013','2014','2015']\n",
    "#State = Lifestyle_data_df['LocationDesc']\n",
    "Header = ['Physical Activity','Obesity / Weight Status','Fruits and Vegetables']\n",
    "Data = grouped_data[\"Data_Value\"].mean()\n",
    "#x_axis = Data[0]\n",
    "\n",
    "\n",
    "width = 0.4\n",
    "\n",
    "#bar_width = 0.35\n",
    "#Percent_Physical = \n",
    "p1 = plt.bar(Header[0], Data, width, color='r')\n",
    "p2 = plt.bar(Header[1], Data, width, color='b')\n",
    "p3 = plt.bar(Header[2], Data, width, color='g')\n",
    "\n",
    "\n",
    "#Class_graph = Percent_value_avg.plot( kind=\"bar\",x='LocationDesc', y='Data_Value', legend = 'Class',figsize=(5,5))\n",
    "#plotting the graph\n",
    "#p1 = plt.bar(Years, x_axis,color='r', align=\"center\")\n",
    "#p2 = plt.bar(Years, x_axis,color='g', align=\"center\")\n",
    "\n",
    "\n",
    "plt.yticks(fontsize=12)\n",
    "plt.ylabel(\"Percentage\", fontsize=12)\n",
    "plt.xticks(raw_data[\"LocationDesc\"], fontsize=12, rotation=90)\n",
    "plt.xlabel('State', fontsize=12)\n",
    "plt.legend((Header), fontsize=12, )\n",
    "\n",
    "\n",
    "#titles for the plot\n",
    "plt.title('Nutrition, Physical Acitivty and Obesity in 2015')\n",
    "#plt.xlabel('Years')\n",
    "plt.ylabel('Percentage')\n",
    "#plt.legend(['Physical Activity','Obesity / Weight Status','Fruits and Vegetables'])\n",
    "\n",
    "#show the bar chart\n",
    "plt.show()"
   ]
  },
  {
   "cell_type": "code",
   "execution_count": null,
   "metadata": {},
   "outputs": [],
   "source": []
  },
  {
   "cell_type": "code",
   "execution_count": null,
   "metadata": {},
   "outputs": [],
   "source": []
  }
 ],
 "metadata": {
  "kernelspec": {
   "display_name": "Python 3",
   "language": "python",
   "name": "python3"
  },
  "language_info": {
   "codemirror_mode": {
    "name": "ipython",
    "version": 3
   },
   "file_extension": ".py",
   "mimetype": "text/x-python",
   "name": "python",
   "nbconvert_exporter": "python",
   "pygments_lexer": "ipython3",
   "version": "3.7.4"
  }
 },
 "nbformat": 4,
 "nbformat_minor": 2
}
