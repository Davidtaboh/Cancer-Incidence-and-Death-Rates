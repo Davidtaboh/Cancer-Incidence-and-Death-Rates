{
 "cells": [
  {
   "cell_type": "code",
   "execution_count": 1,
   "metadata": {},
   "outputs": [],
   "source": [
    "import pandas as pd\n",
    "import numpy as np\n",
    "import matplotlib.pyplot as plt\n",
    "from scipy.stats import linregress\n",
    "from scipy.optimize import curve_fit"
   ]
  },
  {
   "cell_type": "code",
   "execution_count": 2,
   "metadata": {},
   "outputs": [
    {
     "data": {
      "text/html": [
       "<div>\n",
       "<style scoped>\n",
       "    .dataframe tbody tr th:only-of-type {\n",
       "        vertical-align: middle;\n",
       "    }\n",
       "\n",
       "    .dataframe tbody tr th {\n",
       "        vertical-align: top;\n",
       "    }\n",
       "\n",
       "    .dataframe thead th {\n",
       "        text-align: right;\n",
       "    }\n",
       "</style>\n",
       "<table border=\"1\" class=\"dataframe\">\n",
       "  <thead>\n",
       "    <tr style=\"text-align: right;\">\n",
       "      <th></th>\n",
       "      <th>Unnamed: 0</th>\n",
       "      <th>Population</th>\n",
       "      <th>Household Income</th>\n",
       "      <th>State</th>\n",
       "    </tr>\n",
       "  </thead>\n",
       "  <tbody>\n",
       "    <tr>\n",
       "      <td>0</td>\n",
       "      <td>0</td>\n",
       "      <td>20612439.0</td>\n",
       "      <td>50860.0</td>\n",
       "      <td>Florida</td>\n",
       "    </tr>\n",
       "    <tr>\n",
       "      <td>1</td>\n",
       "      <td>1</td>\n",
       "      <td>10310371.0</td>\n",
       "      <td>53559.0</td>\n",
       "      <td>Georgia</td>\n",
       "    </tr>\n",
       "    <tr>\n",
       "      <td>2</td>\n",
       "      <td>2</td>\n",
       "      <td>1428557.0</td>\n",
       "      <td>74511.0</td>\n",
       "      <td>Hawaii</td>\n",
       "    </tr>\n",
       "    <tr>\n",
       "      <td>3</td>\n",
       "      <td>3</td>\n",
       "      <td>1683140.0</td>\n",
       "      <td>51807.0</td>\n",
       "      <td>Idaho</td>\n",
       "    </tr>\n",
       "    <tr>\n",
       "      <td>4</td>\n",
       "      <td>4</td>\n",
       "      <td>12801539.0</td>\n",
       "      <td>60960.0</td>\n",
       "      <td>Illinois</td>\n",
       "    </tr>\n",
       "  </tbody>\n",
       "</table>\n",
       "</div>"
      ],
      "text/plain": [
       "   Unnamed: 0  Population  Household Income     State\n",
       "0           0  20612439.0           50860.0   Florida\n",
       "1           1  10310371.0           53559.0   Georgia\n",
       "2           2   1428557.0           74511.0    Hawaii\n",
       "3           3   1683140.0           51807.0     Idaho\n",
       "4           4  12801539.0           60960.0  Illinois"
      ]
     },
     "execution_count": 2,
     "metadata": {},
     "output_type": "execute_result"
    }
   ],
   "source": [
    "income_df =pd.read_csv(\"State income.csv\")\n",
    "income_df.head()"
   ]
  },
  {
   "cell_type": "code",
   "execution_count": 3,
   "metadata": {},
   "outputs": [
    {
     "data": {
      "text/html": [
       "<div>\n",
       "<style scoped>\n",
       "    .dataframe tbody tr th:only-of-type {\n",
       "        vertical-align: middle;\n",
       "    }\n",
       "\n",
       "    .dataframe tbody tr th {\n",
       "        vertical-align: top;\n",
       "    }\n",
       "\n",
       "    .dataframe thead th {\n",
       "        text-align: right;\n",
       "    }\n",
       "</style>\n",
       "<table border=\"1\" class=\"dataframe\">\n",
       "  <thead>\n",
       "    <tr style=\"text-align: right;\">\n",
       "      <th></th>\n",
       "      <th>State</th>\n",
       "      <th>Incidence Rate</th>\n",
       "      <th>Average Annual Count_x</th>\n",
       "      <th>Death Rate</th>\n",
       "      <th>Average Annual Count_y</th>\n",
       "      <th>Cancer Death_per_hundred_cancer_patient</th>\n",
       "    </tr>\n",
       "  </thead>\n",
       "  <tbody>\n",
       "    <tr>\n",
       "      <td>0</td>\n",
       "      <td>Kentucky</td>\n",
       "      <td>521.0</td>\n",
       "      <td>26945.0</td>\n",
       "      <td>198.0</td>\n",
       "      <td>10206.0</td>\n",
       "      <td>38.0</td>\n",
       "    </tr>\n",
       "    <tr>\n",
       "      <td>1</td>\n",
       "      <td>Delaware</td>\n",
       "      <td>498.0</td>\n",
       "      <td>5803.0</td>\n",
       "      <td>170.0</td>\n",
       "      <td>1989.0</td>\n",
       "      <td>34.0</td>\n",
       "    </tr>\n",
       "    <tr>\n",
       "      <td>2</td>\n",
       "      <td>Pennsylvania</td>\n",
       "      <td>487.0</td>\n",
       "      <td>79060.0</td>\n",
       "      <td>169.0</td>\n",
       "      <td>28658.0</td>\n",
       "      <td>36.0</td>\n",
       "    </tr>\n",
       "    <tr>\n",
       "      <td>3</td>\n",
       "      <td>New Hampshire</td>\n",
       "      <td>484.0</td>\n",
       "      <td>8129.0</td>\n",
       "      <td>162.0</td>\n",
       "      <td>2718.0</td>\n",
       "      <td>33.0</td>\n",
       "    </tr>\n",
       "    <tr>\n",
       "      <td>4</td>\n",
       "      <td>New Jersey</td>\n",
       "      <td>483.0</td>\n",
       "      <td>50921.0</td>\n",
       "      <td>154.0</td>\n",
       "      <td>16407.0</td>\n",
       "      <td>32.0</td>\n",
       "    </tr>\n",
       "  </tbody>\n",
       "</table>\n",
       "</div>"
      ],
      "text/plain": [
       "           State  Incidence Rate  Average Annual Count_x  Death Rate  \\\n",
       "0       Kentucky           521.0                 26945.0       198.0   \n",
       "1       Delaware           498.0                  5803.0       170.0   \n",
       "2   Pennsylvania           487.0                 79060.0       169.0   \n",
       "3  New Hampshire           484.0                  8129.0       162.0   \n",
       "4     New Jersey           483.0                 50921.0       154.0   \n",
       "\n",
       "   Average Annual Count_y  Cancer Death_per_hundred_cancer_patient  \n",
       "0                 10206.0                                     38.0  \n",
       "1                  1989.0                                     34.0  \n",
       "2                 28658.0                                     36.0  \n",
       "3                  2718.0                                     33.0  \n",
       "4                 16407.0                                     32.0  "
      ]
     },
     "execution_count": 3,
     "metadata": {},
     "output_type": "execute_result"
    }
   ],
   "source": [
    "cancer_df = pd.read_csv(\"Resource/Added_final_combined_cancer_data.csv\")\n",
    "cancer_df.head()"
   ]
  },
  {
   "cell_type": "code",
   "execution_count": 4,
   "metadata": {},
   "outputs": [
    {
     "data": {
      "text/html": [
       "<div>\n",
       "<style scoped>\n",
       "    .dataframe tbody tr th:only-of-type {\n",
       "        vertical-align: middle;\n",
       "    }\n",
       "\n",
       "    .dataframe tbody tr th {\n",
       "        vertical-align: top;\n",
       "    }\n",
       "\n",
       "    .dataframe thead th {\n",
       "        text-align: right;\n",
       "    }\n",
       "</style>\n",
       "<table border=\"1\" class=\"dataframe\">\n",
       "  <thead>\n",
       "    <tr style=\"text-align: right;\">\n",
       "      <th></th>\n",
       "      <th>Unnamed: 0</th>\n",
       "      <th>Population</th>\n",
       "      <th>Household Income</th>\n",
       "      <th>State</th>\n",
       "      <th>Incidence Rate</th>\n",
       "      <th>Average Annual Count_x</th>\n",
       "      <th>Death Rate</th>\n",
       "      <th>Average Annual Count_y</th>\n",
       "      <th>Cancer Death_per_hundred_cancer_patient</th>\n",
       "    </tr>\n",
       "  </thead>\n",
       "  <tbody>\n",
       "    <tr>\n",
       "      <td>0</td>\n",
       "      <td>0</td>\n",
       "      <td>20612439.0</td>\n",
       "      <td>50860.0</td>\n",
       "      <td>Florida</td>\n",
       "      <td>452.0</td>\n",
       "      <td>121916.0</td>\n",
       "      <td>153.0</td>\n",
       "      <td>43285.0</td>\n",
       "      <td>36.0</td>\n",
       "    </tr>\n",
       "    <tr>\n",
       "      <td>1</td>\n",
       "      <td>1</td>\n",
       "      <td>10310371.0</td>\n",
       "      <td>53559.0</td>\n",
       "      <td>Georgia</td>\n",
       "      <td>466.0</td>\n",
       "      <td>49003.0</td>\n",
       "      <td>166.0</td>\n",
       "      <td>16650.0</td>\n",
       "      <td>34.0</td>\n",
       "    </tr>\n",
       "    <tr>\n",
       "      <td>3</td>\n",
       "      <td>3</td>\n",
       "      <td>1683140.0</td>\n",
       "      <td>51807.0</td>\n",
       "      <td>Idaho</td>\n",
       "      <td>440.0</td>\n",
       "      <td>7924.0</td>\n",
       "      <td>155.0</td>\n",
       "      <td>2761.0</td>\n",
       "      <td>35.0</td>\n",
       "    </tr>\n",
       "    <tr>\n",
       "      <td>4</td>\n",
       "      <td>4</td>\n",
       "      <td>12801539.0</td>\n",
       "      <td>60960.0</td>\n",
       "      <td>Illinois</td>\n",
       "      <td>466.0</td>\n",
       "      <td>67683.0</td>\n",
       "      <td>168.0</td>\n",
       "      <td>24531.0</td>\n",
       "      <td>36.0</td>\n",
       "    </tr>\n",
       "    <tr>\n",
       "      <td>5</td>\n",
       "      <td>5</td>\n",
       "      <td>6633053.0</td>\n",
       "      <td>52314.0</td>\n",
       "      <td>Indiana</td>\n",
       "      <td>457.0</td>\n",
       "      <td>34242.0</td>\n",
       "      <td>178.0</td>\n",
       "      <td>13416.0</td>\n",
       "      <td>39.0</td>\n",
       "    </tr>\n",
       "  </tbody>\n",
       "</table>\n",
       "</div>"
      ],
      "text/plain": [
       "   Unnamed: 0  Population  Household Income     State  Incidence Rate  \\\n",
       "0           0  20612439.0           50860.0   Florida           452.0   \n",
       "1           1  10310371.0           53559.0   Georgia           466.0   \n",
       "3           3   1683140.0           51807.0     Idaho           440.0   \n",
       "4           4  12801539.0           60960.0  Illinois           466.0   \n",
       "5           5   6633053.0           52314.0   Indiana           457.0   \n",
       "\n",
       "   Average Annual Count_x  Death Rate  Average Annual Count_y  \\\n",
       "0                121916.0       153.0                 43285.0   \n",
       "1                 49003.0       166.0                 16650.0   \n",
       "3                  7924.0       155.0                  2761.0   \n",
       "4                 67683.0       168.0                 24531.0   \n",
       "5                 34242.0       178.0                 13416.0   \n",
       "\n",
       "   Cancer Death_per_hundred_cancer_patient  \n",
       "0                                     36.0  \n",
       "1                                     34.0  \n",
       "3                                     35.0  \n",
       "4                                     36.0  \n",
       "5                                     39.0  "
      ]
     },
     "execution_count": 4,
     "metadata": {},
     "output_type": "execute_result"
    }
   ],
   "source": [
    "merged_table =pd.merge(income_df, cancer_df, how=\"left\", on=\"State\").dropna()\n",
    "merged_table.head()"
   ]
  },
  {
   "cell_type": "code",
   "execution_count": 5,
   "metadata": {},
   "outputs": [
    {
     "data": {
      "image/png": "[encoded data removed]",
      "text/plain": [
       "<Figure size 432x288 with 1 Axes>"
      ]
     },
     "metadata": {
      "needs_background": "light"
     },
     "output_type": "display_data"
    },
    {
     "name": "stdout",
     "output_type": "stream",
     "text": [
      "The r-squared is: -0.15339048230981595\n"
     ]
    }
   ],
   "source": [
    "income = merged_table[\"Household Income\"]\n",
    "incidence_rate = merged_table[\"Incidence Rate\"]\n",
    "\n",
    "plt.scatter(income,incidence_rate, edgecolors= \"black\", facecolors=\"blue\", alpha=.5)\n",
    "plt.xlabel(\"Household Income (2018 inflated dollars)\")\n",
    "plt.ylabel(\"Incidence Rate\")\n",
    "plt.title(\"Household Income vs Cancer Incidence Rate\")\n",
    "\n",
    "(slope, intercept, rvalue, pvalue, stderr) = linregress(income, incidence_rate)\n",
    "tempregress_values = income*slope + intercept\n",
    "templine_eq = \"y = \" + str(round(slope,2)) + \"x = \" + str(round(intercept, 2))\n",
    "plt.annotate(templine_eq,(6,10), fontsize=15, color=\"red\")\n",
    "plt.plot(income, tempregress_values, \"r-\")\n",
    "plt.show()\n",
    "print(f\"The r-squared is: {rvalue}\")"
   ]
  },
  {
   "cell_type": "code",
   "execution_count": 6,
   "metadata": {},
   "outputs": [
    {
     "data": {
      "image/png": "[encoded data removed]",
      "text/plain": [
       "<Figure size 432x288 with 1 Axes>"
      ]
     },
     "metadata": {
      "needs_background": "light"
     },
     "output_type": "display_data"
    },
    {
     "name": "stdout",
     "output_type": "stream",
     "text": [
      "The r-squared is: -0.5426915623986303\n"
     ]
    }
   ],
   "source": [
    "income = merged_table[\"Household Income\"]\n",
    "cancer_death = merged_table[\"Death Rate\"]\n",
    "\n",
    "plt.scatter(income,cancer_death, edgecolors= \"black\", facecolors=\"green\", alpha=.5)\n",
    "plt.xlabel(\"Household Income (2018 inflated dollars)\")\n",
    "plt.ylabel(\"Death Rate\")\n",
    "plt.title(\"Household Income vs Cancer Death Rate\")\n",
    "\n",
    "(slope, intercept, rvalue, pvalue, stderr) = linregress(income, cancer_death)\n",
    "tempregress_values = income*slope + intercept\n",
    "templine_eq = \"y = \" + str(round(slope,2)) + \"x = \" + str(round(intercept, 2))\n",
    "\n",
    "plt.annotate(templine_eq,(6,10), fontsize=15, color=\"red\")\n",
    "plt.plot(income, tempregress_values, \"r-\")\n",
    "plt.show()\n",
    "\n",
    "print(f\"The r-squared is: {rvalue}\")"
   ]
  },
  {
   "cell_type": "code",
   "execution_count": 7,
   "metadata": {},
   "outputs": [
    {
     "data": {
      "image/png": "[encoded data removed]",
      "text/plain": [
       "<Figure size 432x288 with 1 Axes>"
      ]
     },
     "metadata": {
      "needs_background": "light"
     },
     "output_type": "display_data"
    },
    {
     "name": "stdout",
     "output_type": "stream",
     "text": [
      "The r-squared is: -0.6620649247646108\n"
     ]
    }
   ],
   "source": [
    "income = merged_table[\"Household Income\"]\n",
    "Death_per_hundred = merged_table[\"Cancer Death_per_hundred_cancer_patient\"]\n",
    "\n",
    "plt.scatter(income,Death_per_hundred, edgecolors= \"black\", facecolors=\"orange\", alpha=.5)\n",
    "plt.xlabel(\"Household Income (2018 inflated dollars)\")\n",
    "plt.ylabel(\"Cancer Death per 100 People\")\n",
    "plt.title(\"Household Income vs Cancer Death per 100 People\")\n",
    "\n",
    "(slope, intercept, rvalue, pvalue, stderr) = linregress(income, Death_per_hundred)\n",
    "tempregress_values = income*slope + intercept\n",
    "templine_eq = \"y = \" + str(round(slope,2)) + \"x = \" + str(round(intercept, 2))\n",
    "\n",
    "plt.annotate(templine_eq,(6,10), fontsize=15, color=\"red\")\n",
    "plt.plot(income, tempregress_values, \"r-\")\n",
    "plt.show()\n",
    "print(f\"The r-squared is: {rvalue}\")"
   ]
  },
  {
   "cell_type": "code",
   "execution_count": null,
   "metadata": {},
   "outputs": [],
   "source": []
  }
 ],
 "metadata": {
  "kernelspec": {
   "display_name": "Python 3",
   "language": "python",
   "name": "python3"
  },
  "language_info": {
   "codemirror_mode": {
    "name": "ipython",
    "version": 3
   },
   "file_extension": ".py",
   "mimetype": "text/x-python",
   "name": "python",
   "nbconvert_exporter": "python",
   "pygments_lexer": "ipython3",
   "version": "3.7.4"
  }
 },
 "nbformat": 4,
 "nbformat_minor": 2
}
